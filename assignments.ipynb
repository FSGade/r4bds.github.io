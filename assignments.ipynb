{
  "cells": [
    {
      "cell_type": "markdown",
      "metadata": {},
      "source": [
        "# Assignments {.unnumbered}\n",
        "\n",
        "- Go to [DTU Learn](http://learn.inside.dtu.dk)\n",
        "- Find and click in on the `R for Bio Data Science` course\n",
        "- Here, you will need to enroll in appropriate groups as defined by the Group Formation Sheet, see the Getting Started Section\n",
        "- In case groups consists of a mix of BSc. and MSc. students, then enroll under your respective courses\n",
        "- Please note, that the google sheet defines the group numbers, so nevermind what Learn assigns.\n",
        "\n",
        "You should\n",
        "\n",
        "\n",
        "```{verbatim}\n",
        "  ---\n",
        "  title: \"My Title\"\n",
        "  format:\n",
        "    html:\n",
        "      embed-resources: true\n",
        "  editor: visual\n",
        "  ---\n",
        "```"
      ],
      "id": "bf8b6bc9"
    }
  ],
  "metadata": {
    "kernelspec": {
      "display_name": "Python 3",
      "language": "python",
      "name": "python3"
    }
  },
  "nbformat": 4,
  "nbformat_minor": 5
}